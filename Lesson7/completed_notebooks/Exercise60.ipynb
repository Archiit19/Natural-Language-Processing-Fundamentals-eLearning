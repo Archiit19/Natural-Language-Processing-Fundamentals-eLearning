{
 "cells": [
  {
   "cell_type": "markdown",
   "metadata": {},
   "source": [
    "## Word Vectors"
   ]
  },
  {
   "cell_type": "code",
   "execution_count": 1,
   "metadata": {},
   "outputs": [],
   "source": [
    "import requests\n",
    "import json"
   ]
  },
  {
   "cell_type": "code",
   "execution_count": 2,
   "metadata": {},
   "outputs": [],
   "source": [
    "GUTENBERG_URL ='https://www.gutenberg.org/files/{}/{}-0.txt'"
   ]
  },
  {
   "cell_type": "code",
   "execution_count": 5,
   "metadata": {},
   "outputs": [],
   "source": [
    "catalog = [\n",
    "    { 'title': 'Pride and Prejudice', 'author': 'Jane Austen', 'id': 1342},\n",
    "    { 'title': 'A Christmas Carol in Prose', 'author': 'Charles Dickens', 'id': 46},\n",
    "    { 'title': 'A Tale of Two Cities', 'author': 'Charles Dickens', 'id': 98}, \n",
    "    { 'title': 'Frankenstein; Or, The Modern Prometheus', 'author': 'Mary Wollstonecraft Shelley','id': 84},\n",
    "    { 'title': 'Dracula', 'author': 'Bram Stoker', 'id':345},\n",
    "    { 'title': 'Heart of Darkness', 'author': 'Joseph Conrad', 'id':219},\n",
    "    { 'title': 'Moby Dick; Or, The Whale', 'author': 'Herman Melville', 'id': 2701},\n",
    "    { 'title': \"Alice's Adventures in Wonderland\", 'author': 'Lewis Carroll','id':11 },\n",
    "    { 'title': 'The Adventures of Sherlock Holmes', 'author': 'Arthur Conan Doyle', 'id':1661 },\n",
    "    { 'title':  'A Modest Proposal', 'author': 'Jonathan Swift', 'id': 1080}\n",
    "]"
   ]
  },
  {
   "cell_type": "code",
   "execution_count": 6,
   "metadata": {},
   "outputs": [],
   "source": [
    "with open('ProjectGutenbergBooks.json', 'r') as catalog_file:\n",
    "    catalog = json.load(catalog_file)"
   ]
  },
  {
   "cell_type": "code",
   "execution_count": 7,
   "metadata": {},
   "outputs": [
    {
     "data": {
      "text/plain": [
       "[{'title': 'Pride and Prejudice', 'author': 'Jane Austen', 'id': 1342},\n",
       " {'title': 'A Christmas Carol in Prose',\n",
       "  'author': 'Charles Dickens',\n",
       "  'id': 46},\n",
       " {'title': 'A Tale of Two Cities', 'author': 'Charles Dickens', 'id': 98},\n",
       " {'title': 'Frankenstein; Or, The Modern Prometheus',\n",
       "  'author': 'Mary Wollstonecraft Shelley',\n",
       "  'id': 84},\n",
       " {'title': 'Dracula', 'author': 'Bram Stoker', 'id': 345},\n",
       " {'title': 'Heart of Darkness', 'author': 'Joseph Conrad', 'id': 219},\n",
       " {'title': 'Moby Dick; Or, The Whale',\n",
       "  'author': 'Herman Melville',\n",
       "  'id': 2701},\n",
       " {'title': \"Alice's Adventures in Wonderland\",\n",
       "  'author': 'Lewis Carroll',\n",
       "  'id': 11},\n",
       " {'title': 'The Adventures of Sherlock Holmes',\n",
       "  'author': 'Arthur Conan Doyle',\n",
       "  'id': 1661},\n",
       " {'title': 'A Modest Proposal', 'author': 'Jonathan Swift', 'id': 1080}]"
      ]
     },
     "execution_count": 7,
     "metadata": {},
     "output_type": "execute_result"
    }
   ],
   "source": [
    "catalog"
   ]
  },
  {
   "cell_type": "code",
   "execution_count": 8,
   "metadata": {},
   "outputs": [],
   "source": [
    "import re\n",
    "\n",
    "GUTENBERG_URL ='https://www.gutenberg.org/files/{}/{}-0.txt'\n",
    "\n",
    "def load_book(book_id):\n",
    "    url = GUTENBERG_URL.format(book_id, book_id)\n",
    "    contents = requests.get(url).text\n",
    "    cleaned_contents = re.sub(r'\\r\\n', ' ', contents)\n",
    "    return cleaned_contents"
   ]
  },
  {
   "cell_type": "code",
   "execution_count": 9,
   "metadata": {},
   "outputs": [],
   "source": [
    "book_ids = [ book['id'] for book in catalog ]\n",
    "books = [ load_book(id) for id in book_ids]"
   ]
  },
  {
   "cell_type": "code",
   "execution_count": null,
   "metadata": {},
   "outputs": [],
   "source": []
  },
  {
   "cell_type": "code",
   "execution_count": 10,
   "metadata": {},
   "outputs": [],
   "source": [
    "from gensim.summarization import textcleaner\n",
    "from gensim.utils import simple_preprocess\n",
    "\n",
    "def to_sentences(book):\n",
    "    sentences = textcleaner.split_sentences(book)\n",
    "    sentence_tokens = [simple_preprocess(sentence) for sentence in sentences]\n",
    "    return sentence_tokens\n",
    "    "
   ]
  },
  {
   "cell_type": "code",
   "execution_count": 11,
   "metadata": {},
   "outputs": [],
   "source": [
    "books_sentences = [to_sentences(book) for book in books]\n",
    "documents = [ sentence for book_sent in books_sentences for sentence in book_sent ]"
   ]
  },
  {
   "cell_type": "code",
   "execution_count": 12,
   "metadata": {},
   "outputs": [
    {
     "data": {
      "text/plain": [
       "27725"
      ]
     },
     "execution_count": 12,
     "metadata": {},
     "output_type": "execute_result"
    }
   ],
   "source": [
    "len(documents)"
   ]
  },
  {
   "cell_type": "code",
   "execution_count": 13,
   "metadata": {},
   "outputs": [
    {
     "data": {
      "text/plain": [
       "(23741908, 32057700)"
      ]
     },
     "execution_count": 13,
     "metadata": {},
     "output_type": "execute_result"
    }
   ],
   "source": [
    "from gensim.models import Word2Vec\n",
    "# build vocabulary and train model\n",
    "model = Word2Vec(\n",
    "        documents,\n",
    "        size=100,\n",
    "        window=10,\n",
    "        min_count=2,\n",
    "        workers=10)\n",
    "model.train(documents, total_examples=len(documents), epochs=50)"
   ]
  },
  {
   "cell_type": "code",
   "execution_count": 14,
   "metadata": {},
   "outputs": [
    {
     "data": {
      "text/plain": [
       "[('kinder', 0.6493244767189026),\n",
       " ('better', 0.644451379776001),\n",
       " ('narrower', 0.6426514387130737),\n",
       " ('happier', 0.6025402545928955),\n",
       " ('handsomer', 0.5930342078208923),\n",
       " ('slighter', 0.5849337577819824),\n",
       " ('hoarser', 0.5771716237068176),\n",
       " ('more', 0.5747726559638977),\n",
       " ('older', 0.5692399144172668),\n",
       " ('tougher', 0.569007396697998)]"
      ]
     },
     "execution_count": 14,
     "metadata": {},
     "output_type": "execute_result"
    }
   ],
   "source": [
    "model.wv.most_similar(positive='worse')"
   ]
  },
  {
   "cell_type": "code",
   "execution_count": 15,
   "metadata": {},
   "outputs": [
    {
     "data": {
      "text/plain": [
       "40"
      ]
     },
     "execution_count": 15,
     "metadata": {},
     "output_type": "execute_result"
    }
   ],
   "source": [
    "import gc\n",
    "gc.collect()"
   ]
  },
  {
   "cell_type": "code",
   "execution_count": 16,
   "metadata": {},
   "outputs": [],
   "source": [
    "from gensim.models import Word2Vec\n",
    "from gensim.utils import simple_preprocess"
   ]
  },
  {
   "cell_type": "code",
   "execution_count": 17,
   "metadata": {},
   "outputs": [],
   "source": [
    "import matplotlib.pyplot as plt\n",
    "plt.style.use('fivethirtyeight')\n",
    "\n",
    "def show_vector(word):\n",
    "    vector = model.wv[word]\n",
    "    fig, ax = plt.subplots(1,1, figsize=(10, 2))\n",
    "    ax.tick_params(axis='both', \n",
    "                   which='both',\n",
    "                   left=False, \n",
    "                   bottom=False, \n",
    "                   top=False,\n",
    "                   labelleft=False, \n",
    "                   labelbottom=False)\n",
    "    ax.grid(False)\n",
    "    print(word)\n",
    "    ax.bar(range(len(vector)), vector, 0.5)\n"
   ]
  },
  {
   "cell_type": "code",
   "execution_count": 18,
   "metadata": {},
   "outputs": [
    {
     "name": "stdout",
     "output_type": "stream",
     "text": [
      "sad\n"
     ]
    },
    {
     "data": {
      "image/png": "[encoded data removed]",
      "text/plain": [
       "<Figure size 720x144 with 1 Axes>"
      ]
     },
     "metadata": {},
     "output_type": "display_data"
    }
   ],
   "source": [
    "show_vector('sad')"
   ]
  },
  {
   "cell_type": "code",
   "execution_count": 21,
   "metadata": {},
   "outputs": [
    {
     "name": "stdout",
     "output_type": "stream",
     "text": [
      "happy\n"
     ]
    },
    {
     "data": {
      "image/png": "[encoded data removed]",
      "text/plain": [
       "<Figure size 720x144 with 1 Axes>"
      ]
     },
     "metadata": {},
     "output_type": "display_data"
    }
   ],
   "source": [
    "show_vector('happy')"
   ]
  },
  {
   "cell_type": "code",
   "execution_count": 22,
   "metadata": {},
   "outputs": [],
   "source": [
    "import json\n",
    "with open('ProjectGutenbergBooks.json', 'w') as outfile:\n",
    "    json.dump(catalog, outfile)"
   ]
  },
  {
   "cell_type": "code",
   "execution_count": null,
   "metadata": {},
   "outputs": [],
   "source": []
  }
 ],
 "metadata": {
  "kernelspec": {
   "display_name": "Python 3",
   "language": "python",
   "name": "python3"
  },
  "language_info": {
   "codemirror_mode": {
    "name": "ipython",
    "version": 3
   },
   "file_extension": ".py",
   "mimetype": "text/x-python",
   "name": "python",
   "nbconvert_exporter": "python",
   "pygments_lexer": "ipython3",
   "version": "3.7.3"
  }
 },
 "nbformat": 4,
 "nbformat_minor": 2
}
