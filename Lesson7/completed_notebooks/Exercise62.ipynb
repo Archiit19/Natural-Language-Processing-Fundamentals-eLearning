{
 "cells": [
  {
   "cell_type": "code",
   "execution_count": 1,
   "metadata": {},
   "outputs": [],
   "source": [
    "import pandas as pd\n",
    "from gensim import utils\n",
    "from gensim.models.doc2vec import TaggedDocument\n",
    "from gensim.models import Doc2Vec\n",
    "from gensim.parsing.preprocessing import preprocess_string, remove_stopwords\n",
    "import random"
   ]
  },
  {
   "cell_type": "code",
   "execution_count": 2,
   "metadata": {},
   "outputs": [],
   "source": [
    "pd.set_option('display.max_colwidth', -1)"
   ]
  },
  {
   "cell_type": "code",
   "execution_count": 5,
   "metadata": {},
   "outputs": [],
   "source": [
    "movie_lines_file = 'data/cornell-movie-dialogs/movie_lines.txt'"
   ]
  },
  {
   "cell_type": "code",
   "execution_count": 6,
   "metadata": {},
   "outputs": [],
   "source": [
    "with open(movie_lines_file) as f:\n",
    "    movie_lines = [line.strip().split('+++$+++') for line in f.readlines()];\n",
    "\n",
    "lines_df = pd.DataFrame([{'LineNumber': d[0].strip(), \n",
    "                                'Person': d[3].strip(),\n",
    "                                'Line': d[4].strip(),\n",
    "                                 'Movie' : d[2].strip()} \n",
    "                              for d in movie_lines])\n",
    "lines_df = lines_df.set_index('LineNumber')"
   ]
  },
  {
   "cell_type": "code",
   "execution_count": 7,
   "metadata": {},
   "outputs": [
    {
     "data": {
      "text/html": [
       "<div>\n",
       "<style scoped>\n",
       "    .dataframe tbody tr th:only-of-type {\n",
       "        vertical-align: middle;\n",
       "    }\n",
       "\n",
       "    .dataframe tbody tr th {\n",
       "        vertical-align: top;\n",
       "    }\n",
       "\n",
       "    .dataframe thead th {\n",
       "        text-align: right;\n",
       "    }\n",
       "</style>\n",
       "<table border=\"1\" class=\"dataframe\">\n",
       "  <thead>\n",
       "    <tr style=\"text-align: right;\">\n",
       "      <th></th>\n",
       "      <th>Line</th>\n",
       "      <th>Movie</th>\n",
       "      <th>Person</th>\n",
       "    </tr>\n",
       "    <tr>\n",
       "      <th>LineNumber</th>\n",
       "      <th></th>\n",
       "      <th></th>\n",
       "      <th></th>\n",
       "    </tr>\n",
       "  </thead>\n",
       "  <tbody>\n",
       "    <tr>\n",
       "      <th>L1045</th>\n",
       "      <td>They do not!</td>\n",
       "      <td>m0</td>\n",
       "      <td>BIANCA</td>\n",
       "    </tr>\n",
       "    <tr>\n",
       "      <th>L1044</th>\n",
       "      <td>They do to!</td>\n",
       "      <td>m0</td>\n",
       "      <td>CAMERON</td>\n",
       "    </tr>\n",
       "    <tr>\n",
       "      <th>L985</th>\n",
       "      <td>I hope so.</td>\n",
       "      <td>m0</td>\n",
       "      <td>BIANCA</td>\n",
       "    </tr>\n",
       "    <tr>\n",
       "      <th>L984</th>\n",
       "      <td>She okay?</td>\n",
       "      <td>m0</td>\n",
       "      <td>CAMERON</td>\n",
       "    </tr>\n",
       "    <tr>\n",
       "      <th>L925</th>\n",
       "      <td>Let's go.</td>\n",
       "      <td>m0</td>\n",
       "      <td>BIANCA</td>\n",
       "    </tr>\n",
       "    <tr>\n",
       "      <th>L924</th>\n",
       "      <td>Wow</td>\n",
       "      <td>m0</td>\n",
       "      <td>CAMERON</td>\n",
       "    </tr>\n",
       "    <tr>\n",
       "      <th>L872</th>\n",
       "      <td>Okay -- you're gonna need to learn how to lie.</td>\n",
       "      <td>m0</td>\n",
       "      <td>BIANCA</td>\n",
       "    </tr>\n",
       "    <tr>\n",
       "      <th>L871</th>\n",
       "      <td>No</td>\n",
       "      <td>m0</td>\n",
       "      <td>CAMERON</td>\n",
       "    </tr>\n",
       "    <tr>\n",
       "      <th>L870</th>\n",
       "      <td>I'm kidding.  You know how sometimes you just become this \"persona\"?  And you don't know how to quit?</td>\n",
       "      <td>m0</td>\n",
       "      <td>BIANCA</td>\n",
       "    </tr>\n",
       "    <tr>\n",
       "      <th>L869</th>\n",
       "      <td>Like my fear of wearing pastels?</td>\n",
       "      <td>m0</td>\n",
       "      <td>BIANCA</td>\n",
       "    </tr>\n",
       "  </tbody>\n",
       "</table>\n",
       "</div>"
      ],
      "text/plain": [
       "                                                                                                             Line  \\\n",
       "LineNumber                                                                                                          \n",
       "L1045       They do not!                                                                                            \n",
       "L1044       They do to!                                                                                             \n",
       "L985        I hope so.                                                                                              \n",
       "L984        She okay?                                                                                               \n",
       "L925        Let's go.                                                                                               \n",
       "L924        Wow                                                                                                     \n",
       "L872        Okay -- you're gonna need to learn how to lie.                                                          \n",
       "L871        No                                                                                                      \n",
       "L870        I'm kidding.  You know how sometimes you just become this \"persona\"?  And you don't know how to quit?   \n",
       "L869        Like my fear of wearing pastels?                                                                        \n",
       "\n",
       "           Movie   Person  \n",
       "LineNumber                 \n",
       "L1045       m0    BIANCA   \n",
       "L1044       m0    CAMERON  \n",
       "L985        m0    BIANCA   \n",
       "L984        m0    CAMERON  \n",
       "L925        m0    BIANCA   \n",
       "L924        m0    CAMERON  \n",
       "L872        m0    BIANCA   \n",
       "L871        m0    CAMERON  \n",
       "L870        m0    BIANCA   \n",
       "L869        m0    BIANCA   "
      ]
     },
     "execution_count": 7,
     "metadata": {},
     "output_type": "execute_result"
    }
   ],
   "source": [
    "lines_df.head(10)"
   ]
  },
  {
   "cell_type": "code",
   "execution_count": 8,
   "metadata": {},
   "outputs": [
    {
     "data": {
      "text/plain": [
       "304713"
      ]
     },
     "execution_count": 8,
     "metadata": {},
     "output_type": "execute_result"
    }
   ],
   "source": [
    "len(lines_df)"
   ]
  },
  {
   "cell_type": "code",
   "execution_count": 9,
   "metadata": {},
   "outputs": [
    {
     "data": {
      "text/plain": [
       "Line      265786\n",
       "Movie     617   \n",
       "Person    5356  \n",
       "dtype: int64"
      ]
     },
     "execution_count": 9,
     "metadata": {},
     "output_type": "execute_result"
    }
   ],
   "source": [
    "lines_df.nunique()"
   ]
  },
  {
   "cell_type": "code",
   "execution_count": 10,
   "metadata": {},
   "outputs": [],
   "source": [
    "lines_df_small = lines_df.head(50000)"
   ]
  },
  {
   "cell_type": "code",
   "execution_count": 11,
   "metadata": {},
   "outputs": [],
   "source": [
    "class DocumentDataset(object):\n",
    "    \n",
    "    def __init__(self, data:pd.DataFrame, column):\n",
    "        document = data[column].apply(self.preprocess)\n",
    "        self.documents = [ TaggedDocument( text, [index]) \n",
    "                          for index, text in document.iteritems() ]\n",
    "      \n",
    "    def preprocess(self, document):\n",
    "        return preprocess_string(remove_stopwords(document))\n",
    "        \n",
    "    def __iter__(self):\n",
    "        for document in self.documents:\n",
    "            yield documents\n",
    "            \n",
    "    def tagged_documents(self, shuffle=False):\n",
    "        if shuffle:\n",
    "            random.shuffle(self.documents)\n",
    "        return self.documents"
   ]
  },
  {
   "cell_type": "code",
   "execution_count": 12,
   "metadata": {},
   "outputs": [],
   "source": [
    "documents_dataset = DocumentDataset(lines_df_small, 'Line')"
   ]
  },
  {
   "cell_type": "code",
   "execution_count": 13,
   "metadata": {},
   "outputs": [
    {
     "data": {
      "text/plain": [
       "<__main__.DocumentDataset at 0x2335d72ea20>"
      ]
     },
     "execution_count": 13,
     "metadata": {},
     "output_type": "execute_result"
    }
   ],
   "source": [
    "documents_dataset"
   ]
  },
  {
   "cell_type": "code",
   "execution_count": 14,
   "metadata": {},
   "outputs": [],
   "source": [
    "docVecModel = Doc2Vec(min_count=1, window=5, vector_size=100, sample=1e-4, negative=5, workers=8)\n",
    "docVecModel.build_vocab(documents_dataset.tagged_documents())"
   ]
  },
  {
   "cell_type": "code",
   "execution_count": 15,
   "metadata": {},
   "outputs": [],
   "source": [
    "docVecModel.train(documents_dataset.tagged_documents(shuffle=True),\n",
    "            total_examples = docVecModel.corpus_count,\n",
    "           epochs=10)"
   ]
  },
  {
   "cell_type": "code",
   "execution_count": 16,
   "metadata": {},
   "outputs": [
    {
     "data": {
      "text/plain": [
       "array([-2.6732970e-03,  4.1353714e-04,  2.9677683e-03,  2.9606703e-03,\n",
       "        2.0233551e-03,  3.4958552e-04, -9.2168985e-04, -1.1420773e-03,\n",
       "       -2.4593802e-04, -2.5900090e-03, -2.0126812e-03,  4.4025904e-03,\n",
       "       -3.1118894e-03,  2.0809656e-03,  2.0601996e-03,  3.4130928e-03,\n",
       "       -2.6243101e-04, -4.1071693e-03,  3.0793259e-03, -2.5712946e-04,\n",
       "        1.5744346e-03, -1.0704627e-03,  4.3766918e-03, -2.2261490e-03,\n",
       "       -3.3058824e-03, -3.7674806e-03, -3.7239762e-03, -3.7970070e-03,\n",
       "        2.9841792e-03, -3.8563949e-03,  4.3876530e-03, -3.4242077e-04,\n",
       "       -7.3505030e-04, -1.4691928e-03, -3.7747980e-03, -1.7856838e-03,\n",
       "       -3.6680682e-03,  1.0491136e-03, -2.1352421e-03,  1.4902439e-03,\n",
       "        2.5880793e-03, -3.8740195e-03,  1.6297477e-03,  2.9219456e-03,\n",
       "        3.8193164e-03,  3.0087146e-03, -4.1907565e-03,  9.7050297e-04,\n",
       "        1.4135049e-03,  1.8960496e-05, -4.6344306e-03, -1.0052497e-03,\n",
       "        1.3476197e-04,  7.5302343e-04,  2.7484917e-03, -3.2639031e-03,\n",
       "        3.3357115e-03, -3.1794249e-03,  2.7129871e-03, -4.8849364e-03,\n",
       "       -4.4501694e-03, -4.3670591e-03,  3.2482154e-04, -4.0980838e-03,\n",
       "       -3.9890967e-03,  1.5858753e-04, -4.6792082e-04,  2.3081338e-03,\n",
       "        1.0469908e-04, -1.4697257e-03,  3.8701226e-03,  8.2090253e-04,\n",
       "       -4.7129868e-03, -1.5838322e-03,  3.7332876e-03, -3.8440067e-03,\n",
       "        5.2789570e-04,  2.6745677e-03,  1.5817590e-04,  3.1560324e-03,\n",
       "       -1.2149967e-03, -1.8258081e-03,  4.2069843e-04,  1.9518725e-03,\n",
       "        1.7012120e-03, -3.3334768e-04,  2.1415271e-03, -1.7972357e-03,\n",
       "       -9.1952359e-04,  1.4488146e-03, -2.6906773e-03, -2.5260611e-03,\n",
       "       -2.8593978e-03,  3.7188232e-03,  1.1280989e-03, -3.0679128e-03,\n",
       "       -7.4470829e-04,  2.4783371e-03, -3.0914168e-03,  4.3545342e-03],\n",
       "      dtype=float32)"
      ]
     },
     "execution_count": 16,
     "metadata": {},
     "output_type": "execute_result"
    }
   ],
   "source": [
    "docVecModel['L1045']"
   ]
  },
  {
   "cell_type": "code",
   "execution_count": 17,
   "metadata": {},
   "outputs": [
    {
     "data": {
      "text/plain": [
       "array([ 0.00120433, -0.00219427,  0.00388083,  0.00245874,  0.00116642,\n",
       "       -0.00265577,  0.00417811,  0.0022068 , -0.00051487, -0.00458973,\n",
       "        0.00230264,  0.00491255, -0.00328307, -0.00066563,  0.00233356,\n",
       "        0.00269469,  0.00040689,  0.00247192, -0.00372868,  0.00510666,\n",
       "       -0.00387389, -0.00529115,  0.00044855, -0.0045768 ,  0.0026524 ,\n",
       "        0.00072908,  0.00560532, -0.00353582, -0.00181635,  0.00370686,\n",
       "       -0.0012875 , -0.00136226,  0.0018975 , -0.00095679,  0.00258365,\n",
       "       -0.00171968, -0.00385173,  0.00269862,  0.001382  ,  0.00323055,\n",
       "        0.00369065,  0.00053856, -0.00618727, -0.00391659, -0.00020249,\n",
       "        0.00018618,  0.00347242, -0.00133792, -0.00413927,  0.00625147,\n",
       "       -0.00308522, -0.00186353, -0.00087372, -0.0011707 ,  0.00135559,\n",
       "       -0.00245038, -0.00606625, -0.00018087,  0.00210932,  0.00182034,\n",
       "        0.0017222 ,  0.00303782,  0.00438466, -0.00109215, -0.00267192,\n",
       "       -0.00084326, -0.00090326,  0.00243858,  0.00398017,  0.00396203,\n",
       "       -0.0020988 , -0.0008078 , -0.00204866,  0.0002175 ,  0.00113854,\n",
       "       -0.00280866, -0.00076112,  0.00269035,  0.0030243 ,  0.00093483,\n",
       "       -0.00468574,  0.00203298, -0.00041842, -0.00309644,  0.00056787,\n",
       "       -0.00373579,  0.00248935,  0.0005289 ,  0.00173586,  0.00189299,\n",
       "        0.00265627,  0.00245276,  0.00262239, -0.00074312,  0.004095  ,\n",
       "        0.00241368,  0.00202914, -0.00491667,  0.00615264,  0.00518518],\n",
       "      dtype=float32)"
      ]
     },
     "execution_count": 17,
     "metadata": {},
     "output_type": "execute_result"
    }
   ],
   "source": [
    "docVecModel['L872']"
   ]
  },
  {
   "cell_type": "code",
   "execution_count": 18,
   "metadata": {},
   "outputs": [],
   "source": [
    "import matplotlib.pyplot as plt"
   ]
  },
  {
   "cell_type": "code",
   "execution_count": 19,
   "metadata": {},
   "outputs": [],
   "source": [
    "def show_image(vector, line):\n",
    "    fig, ax = plt.subplots(1,1, figsize=(10, 2))\n",
    "    ax.tick_params(axis='both', \n",
    "                   which='both',\n",
    "                   left=False, \n",
    "                   bottom=False,\n",
    "                   top=False,\n",
    "                   labelleft=False,\n",
    "                   labelbottom=False)\n",
    "    ax.grid(False)\n",
    "    print(line)\n",
    "    ax.bar(range(len(vector)), vector, 0.5)\n",
    "   \n",
    "  \n",
    "def show_movie_line(line_number):\n",
    "    line = lines_df_small.ix['L872'].Line\n",
    "    doc_vector = docVecModel[line_number]\n",
    "    show_image(doc_vector, line)"
   ]
  },
  {
   "cell_type": "code",
   "execution_count": 20,
   "metadata": {},
   "outputs": [
    {
     "name": "stderr",
     "output_type": "stream",
     "text": [
      "c:\\python\\python37\\lib\\site-packages\\ipykernel_launcher.py:16: DeprecationWarning: \n",
      ".ix is deprecated. Please use\n",
      ".loc for label based indexing or\n",
      ".iloc for positional indexing\n",
      "\n",
      "See the documentation here:\n",
      "http://pandas.pydata.org/pandas-docs/stable/indexing.html#ix-indexer-is-deprecated\n",
      "  app.launch_new_instance()\n"
     ]
    },
    {
     "name": "stdout",
     "output_type": "stream",
     "text": [
      "Okay -- you're gonna need to learn how to lie.\n"
     ]
    },
    {
     "data": {
      "image/png": "[encoded data removed]",
      "text/plain": [
       "<Figure size 720x144 with 1 Axes>"
      ]
     },
     "metadata": {},
     "output_type": "display_data"
    }
   ],
   "source": [
    "show_movie_line('L872')"
   ]
  },
  {
   "cell_type": "code",
   "execution_count": null,
   "metadata": {},
   "outputs": [],
   "source": []
  }
 ],
 "metadata": {
  "kernelspec": {
   "display_name": "Python 3",
   "language": "python",
   "name": "python3"
  },
  "language_info": {
   "codemirror_mode": {
    "name": "ipython",
    "version": 3
   },
   "file_extension": ".py",
   "mimetype": "text/x-python",
   "name": "python",
   "nbconvert_exporter": "python",
   "pygments_lexer": "ipython3",
   "version": "3.7.3"
  }
 },
 "nbformat": 4,
 "nbformat_minor": 2
}
