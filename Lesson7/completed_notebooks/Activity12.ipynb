{
 "cells": [
  {
   "cell_type": "markdown",
   "metadata": {},
   "source": [
    "## Document Vectors"
   ]
  },
  {
   "cell_type": "code",
   "execution_count": 2,
   "metadata": {},
   "outputs": [],
   "source": [
    "import pandas as pd\n",
    "from gensim import utils\n",
    "from gensim.models.doc2vec import TaggedDocument\n",
    "from gensim.models import Doc2Vec\n",
    "from gensim.parsing.preprocessing import preprocess_string, remove_stopwords\n",
    "import random\n",
    "\n",
    "import warnings\n",
    "warnings.filterwarnings(\"ignore\")"
   ]
  },
  {
   "cell_type": "code",
   "execution_count": 3,
   "metadata": {},
   "outputs": [],
   "source": [
    "pd.set_option('display.max_colwidth', -1)"
   ]
  },
  {
   "cell_type": "code",
   "execution_count": 4,
   "metadata": {},
   "outputs": [],
   "source": [
    "movie_lines_file = 'data/cornell-movie-dialogs/movie_lines.txt'"
   ]
  },
  {
   "cell_type": "markdown",
   "metadata": {},
   "source": [
    "## Load the Movie Dialogs"
   ]
  },
  {
   "cell_type": "code",
   "execution_count": 5,
   "metadata": {},
   "outputs": [],
   "source": [
    "with open(movie_lines_file) as f:\n",
    "    movie_lines = [line.strip().split('+++$+++') for line in f.readlines()];\n",
    "\n",
    "lines_df = pd.DataFrame([{'LineNumber': d[0].strip(), \n",
    "                                'Person': d[3].strip(),\n",
    "                                'Line': d[4].strip(),\n",
    "                                 'Movie' : d[2].strip()} \n",
    "                              for d in movie_lines])\n",
    "lines_df = lines_df.set_index('LineNumber')"
   ]
  },
  {
   "cell_type": "code",
   "execution_count": 6,
   "metadata": {},
   "outputs": [
    {
     "data": {
      "text/html": [
       "<div>\n",
       "<style scoped>\n",
       "    .dataframe tbody tr th:only-of-type {\n",
       "        vertical-align: middle;\n",
       "    }\n",
       "\n",
       "    .dataframe tbody tr th {\n",
       "        vertical-align: top;\n",
       "    }\n",
       "\n",
       "    .dataframe thead th {\n",
       "        text-align: right;\n",
       "    }\n",
       "</style>\n",
       "<table border=\"1\" class=\"dataframe\">\n",
       "  <thead>\n",
       "    <tr style=\"text-align: right;\">\n",
       "      <th></th>\n",
       "      <th>Line</th>\n",
       "      <th>Movie</th>\n",
       "      <th>Person</th>\n",
       "    </tr>\n",
       "    <tr>\n",
       "      <th>LineNumber</th>\n",
       "      <th></th>\n",
       "      <th></th>\n",
       "      <th></th>\n",
       "    </tr>\n",
       "  </thead>\n",
       "  <tbody>\n",
       "    <tr>\n",
       "      <th>L1045</th>\n",
       "      <td>They do not!</td>\n",
       "      <td>m0</td>\n",
       "      <td>BIANCA</td>\n",
       "    </tr>\n",
       "    <tr>\n",
       "      <th>L1044</th>\n",
       "      <td>They do to!</td>\n",
       "      <td>m0</td>\n",
       "      <td>CAMERON</td>\n",
       "    </tr>\n",
       "    <tr>\n",
       "      <th>L985</th>\n",
       "      <td>I hope so.</td>\n",
       "      <td>m0</td>\n",
       "      <td>BIANCA</td>\n",
       "    </tr>\n",
       "    <tr>\n",
       "      <th>L984</th>\n",
       "      <td>She okay?</td>\n",
       "      <td>m0</td>\n",
       "      <td>CAMERON</td>\n",
       "    </tr>\n",
       "    <tr>\n",
       "      <th>L925</th>\n",
       "      <td>Let's go.</td>\n",
       "      <td>m0</td>\n",
       "      <td>BIANCA</td>\n",
       "    </tr>\n",
       "    <tr>\n",
       "      <th>L924</th>\n",
       "      <td>Wow</td>\n",
       "      <td>m0</td>\n",
       "      <td>CAMERON</td>\n",
       "    </tr>\n",
       "    <tr>\n",
       "      <th>L872</th>\n",
       "      <td>Okay -- you're gonna need to learn how to lie.</td>\n",
       "      <td>m0</td>\n",
       "      <td>BIANCA</td>\n",
       "    </tr>\n",
       "    <tr>\n",
       "      <th>L871</th>\n",
       "      <td>No</td>\n",
       "      <td>m0</td>\n",
       "      <td>CAMERON</td>\n",
       "    </tr>\n",
       "    <tr>\n",
       "      <th>L870</th>\n",
       "      <td>I'm kidding.  You know how sometimes you just become this \"persona\"?  And you don't know how to quit?</td>\n",
       "      <td>m0</td>\n",
       "      <td>BIANCA</td>\n",
       "    </tr>\n",
       "    <tr>\n",
       "      <th>L869</th>\n",
       "      <td>Like my fear of wearing pastels?</td>\n",
       "      <td>m0</td>\n",
       "      <td>BIANCA</td>\n",
       "    </tr>\n",
       "  </tbody>\n",
       "</table>\n",
       "</div>"
      ],
      "text/plain": [
       "                                                                                                             Line  \\\n",
       "LineNumber                                                                                                          \n",
       "L1045       They do not!                                                                                            \n",
       "L1044       They do to!                                                                                             \n",
       "L985        I hope so.                                                                                              \n",
       "L984        She okay?                                                                                               \n",
       "L925        Let's go.                                                                                               \n",
       "L924        Wow                                                                                                     \n",
       "L872        Okay -- you're gonna need to learn how to lie.                                                          \n",
       "L871        No                                                                                                      \n",
       "L870        I'm kidding.  You know how sometimes you just become this \"persona\"?  And you don't know how to quit?   \n",
       "L869        Like my fear of wearing pastels?                                                                        \n",
       "\n",
       "           Movie   Person  \n",
       "LineNumber                 \n",
       "L1045       m0    BIANCA   \n",
       "L1044       m0    CAMERON  \n",
       "L985        m0    BIANCA   \n",
       "L984        m0    CAMERON  \n",
       "L925        m0    BIANCA   \n",
       "L924        m0    CAMERON  \n",
       "L872        m0    BIANCA   \n",
       "L871        m0    CAMERON  \n",
       "L870        m0    BIANCA   \n",
       "L869        m0    BIANCA   "
      ]
     },
     "execution_count": 6,
     "metadata": {},
     "output_type": "execute_result"
    }
   ],
   "source": [
    "lines_df.head(10)"
   ]
  },
  {
   "cell_type": "code",
   "execution_count": 7,
   "metadata": {},
   "outputs": [
    {
     "data": {
      "text/plain": [
       "304713"
      ]
     },
     "execution_count": 7,
     "metadata": {},
     "output_type": "execute_result"
    }
   ],
   "source": [
    "len(lines_df)"
   ]
  },
  {
   "cell_type": "code",
   "execution_count": 8,
   "metadata": {},
   "outputs": [
    {
     "data": {
      "text/plain": [
       "Line      265786\n",
       "Movie     617   \n",
       "Person    5356  \n",
       "dtype: int64"
      ]
     },
     "execution_count": 8,
     "metadata": {},
     "output_type": "execute_result"
    }
   ],
   "source": [
    "lines_df.nunique()"
   ]
  },
  {
   "cell_type": "code",
   "execution_count": 9,
   "metadata": {},
   "outputs": [],
   "source": [
    "lines_df_small = lines_df.head(30000)"
   ]
  },
  {
   "cell_type": "code",
   "execution_count": 10,
   "metadata": {},
   "outputs": [],
   "source": [
    "from gensim.parsing.preprocessing import remove_stopwords\n",
    "from gensim.utils import simple_preprocess\n",
    "\n",
    "def text_to_tokens(text):\n",
    "    text = text.lower()\n",
    "    text = remove_stopwords(text)\n",
    "    tokens = simple_preprocess(text)\n",
    "    return tokens"
   ]
  },
  {
   "cell_type": "code",
   "execution_count": 11,
   "metadata": {},
   "outputs": [],
   "source": [
    "class DocumentDataset(object):\n",
    "    \n",
    "    def __init__(self, data:pd.DataFrame, column):\n",
    "        document = data[column].apply(self.preprocess)\n",
    "        self.documents = [ TaggedDocument( text, [index]) \n",
    "                          for index, text in document.iteritems() ]\n",
    "      \n",
    "    def preprocess(self, document):\n",
    "        return preprocess_string(remove_stopwords(document))\n",
    "        \n",
    "    def __iter__(self):\n",
    "        for document in self.documents:\n",
    "            yield documents\n",
    "            \n",
    "    def tagged_documents(self, shuffle=False):\n",
    "        if shuffle:\n",
    "            random.shuffle(self.documents)\n",
    "        return self.documents"
   ]
  },
  {
   "cell_type": "code",
   "execution_count": 12,
   "metadata": {},
   "outputs": [],
   "source": [
    "documents_dataset = DocumentDataset(lines_df_small, 'Line')"
   ]
  },
  {
   "cell_type": "markdown",
   "metadata": {},
   "source": [
    "## Document Vector Model"
   ]
  },
  {
   "cell_type": "code",
   "execution_count": 13,
   "metadata": {},
   "outputs": [],
   "source": [
    "docVecModel = Doc2Vec(min_count=1, window=5, vector_size=100, sample=1e-4, negative=5, workers=8)\n",
    "docVecModel.build_vocab(documents_dataset.tagged_documents())"
   ]
  },
  {
   "cell_type": "code",
   "execution_count": 14,
   "metadata": {},
   "outputs": [],
   "source": [
    "docVecModel.train(documents_dataset.tagged_documents(shuffle=True),\n",
    "            total_examples = docVecModel.corpus_count,\n",
    "           epochs=50)"
   ]
  },
  {
   "cell_type": "code",
   "execution_count": 15,
   "metadata": {},
   "outputs": [
    {
     "data": {
      "text/plain": [
       "30000"
      ]
     },
     "execution_count": 15,
     "metadata": {},
     "output_type": "execute_result"
    }
   ],
   "source": [
    "docVecModel.corpus_count"
   ]
  },
  {
   "cell_type": "code",
   "execution_count": 17,
   "metadata": {},
   "outputs": [],
   "source": [
    "docVecModel.save('data/MovieLinesModel.d2v')"
   ]
  },
  {
   "cell_type": "code",
   "execution_count": 18,
   "metadata": {},
   "outputs": [],
   "source": [
    "docVecModel = Doc2Vec.load('data/MovieLinesModel.d2v')"
   ]
  },
  {
   "cell_type": "code",
   "execution_count": 19,
   "metadata": {},
   "outputs": [
    {
     "data": {
      "text/plain": [
       "array([-0.00828445, -0.04834067,  0.02530375,  0.02200007, -0.00381999,\n",
       "       -0.02789119,  0.02253111,  0.06437519, -0.02857402,  0.02604674,\n",
       "        0.03540081,  0.00444031, -0.0119073 ,  0.04458646,  0.01003409,\n",
       "        0.00631945, -0.01158736,  0.01492725, -0.00342876,  0.00298323,\n",
       "       -0.00733647,  0.03548244,  0.01348062, -0.03596047,  0.00268212,\n",
       "       -0.03104088, -0.00572808,  0.08256663,  0.03786438,  0.03351782,\n",
       "       -0.00447931, -0.00016006,  0.00693047,  0.00757996,  0.01071337,\n",
       "       -0.00911553,  0.02999022,  0.04755087,  0.04904674,  0.04624791,\n",
       "        0.02559343,  0.02385002,  0.03920947, -0.00498406,  0.05396854,\n",
       "       -0.0205278 , -0.0188766 ,  0.00964517, -0.00516263,  0.01327296,\n",
       "       -0.01249348,  0.0267955 , -0.0183379 , -0.01168451,  0.06503777,\n",
       "        0.01330364,  0.01597316, -0.01888711,  0.00336131,  0.05723583,\n",
       "        0.02380397,  0.06430323, -0.03317043,  0.04646054,  0.0141423 ,\n",
       "        0.03914611, -0.04198997, -0.04505408,  0.01798961, -0.01440702,\n",
       "        0.04768176, -0.02047366,  0.00192795,  0.03035644, -0.02486878,\n",
       "        0.00616332, -0.00928743, -0.01973379, -0.01142514,  0.07134061,\n",
       "        0.03128999,  0.00868613, -0.05437624, -0.03470892,  0.01900158,\n",
       "        0.01550918, -0.03609172, -0.02486295,  0.0128924 ,  0.00381291,\n",
       "       -0.01348851,  0.00140531, -0.00297098,  0.00183417, -0.01833265,\n",
       "        0.04693663, -0.0473017 , -0.01210788, -0.00642664,  0.01533923],\n",
       "      dtype=float32)"
      ]
     },
     "execution_count": 19,
     "metadata": {},
     "output_type": "execute_result"
    }
   ],
   "source": [
    "docVecModel['L872']"
   ]
  },
  {
   "cell_type": "code",
   "execution_count": 20,
   "metadata": {},
   "outputs": [],
   "source": [
    "import matplotlib.pyplot as plt\n",
    "plt.style.use('fivethirtyeight')\n",
    "\n",
    "def show_image(vector, line):\n",
    "    fig, ax = plt.subplots(1,1, figsize=(10, 2))\n",
    "    ax.tick_params(axis='both', \n",
    "                   which='both',\n",
    "                   left=False, \n",
    "                   bottom=False, \n",
    "                   top=False,\n",
    "                   labelleft=False, \n",
    "                   labelbottom=False)\n",
    "    ax.grid(False)\n",
    "    print(line)\n",
    "    ax.bar(range(len(vector)), vector, 0.5)\n",
    "   \n",
    "    \n",
    "def show_movie_line(line_number):\n",
    "    line = lines_df_small.ix[line_number].Line\n",
    "    doc_vector = docVecModel.docvecs[line_number]\n",
    "    show_image(doc_vector, line)\n",
    "    "
   ]
  },
  {
   "cell_type": "code",
   "execution_count": 21,
   "metadata": {},
   "outputs": [
    {
     "name": "stdout",
     "output_type": "stream",
     "text": [
      "Okay -- you're gonna need to learn how to lie.\n"
     ]
    },
    {
     "data": {
      "image/png": "[encoded data removed]",
      "text/plain": [
       "<Figure size 720x144 with 1 Axes>"
      ]
     },
     "metadata": {},
     "output_type": "display_data"
    }
   ],
   "source": [
    "show_movie_line('L872')"
   ]
  },
  {
   "cell_type": "code",
   "execution_count": 22,
   "metadata": {},
   "outputs": [
    {
     "data": {
      "text/plain": [
       "[('L24549', 0.9926771521568298),\n",
       " ('L141171', 0.9923076033592224),\n",
       " ('L203270', 0.9922418594360352),\n",
       " ('L36560', 0.9922075867652893),\n",
       " ('L170718', 0.9922071695327759),\n",
       " ('L154005', 0.9921227693557739),\n",
       " ('L30638', 0.992072582244873),\n",
       " ('L180135', 0.9920064806938171),\n",
       " ('L140797', 0.9919899702072144),\n",
       " ('L16672', 0.9919706583023071)]"
      ]
     },
     "execution_count": 22,
     "metadata": {},
     "output_type": "execute_result"
    }
   ],
   "source": [
    "docVecModel.docvecs.most_similar('L872')"
   ]
  },
  {
   "cell_type": "code",
   "execution_count": 23,
   "metadata": {},
   "outputs": [
    {
     "data": {
      "text/plain": [
       "array([-3.99009176e-02, -1.25370279e-01,  9.27501768e-02,  5.56772687e-02,\n",
       "       -2.91119516e-02, -7.15209618e-02,  5.07396162e-02,  1.93051159e-01,\n",
       "       -9.63245705e-02,  6.92170188e-02,  9.81807038e-02,  2.18086503e-02,\n",
       "       -5.61617985e-02,  1.68507159e-01, -2.16714181e-02, -1.64045356e-02,\n",
       "       -2.83617098e-02,  3.25716138e-02, -4.05093245e-02,  3.27888690e-02,\n",
       "       -2.71240361e-02,  1.34888127e-01,  4.16132621e-02, -1.18134782e-01,\n",
       "        9.96279251e-03, -1.10117532e-01, -4.38651703e-02,  2.52765745e-01,\n",
       "        1.49392009e-01,  6.02526665e-02,  3.04937251e-02, -1.49334092e-02,\n",
       "       -2.28669471e-03, -4.09400882e-03,  5.67176088e-04, -3.59091200e-02,\n",
       "        1.05703138e-01,  1.65139630e-01,  1.68625191e-01,  1.21028453e-01,\n",
       "        6.36742264e-02,  9.85130891e-02,  1.15041576e-01,  4.72197821e-03,\n",
       "        1.45086288e-01, -3.36336941e-02, -1.02534756e-01,  1.50023568e-02,\n",
       "       -1.66614261e-02,  2.17668079e-02, -4.25124913e-02,  1.22922041e-01,\n",
       "       -3.44265439e-02, -2.67551988e-02,  2.05534235e-01,  5.40657006e-02,\n",
       "        5.33797555e-02, -9.04571638e-02,  1.99223566e-03,  1.53188840e-01,\n",
       "        1.01341866e-01,  1.59495786e-01, -1.16653785e-01,  1.50273010e-01,\n",
       "        7.93338493e-02,  1.19975165e-01, -1.34414837e-01, -1.27994537e-01,\n",
       "        9.62914526e-02, -3.36719379e-02,  1.63342521e-01, -6.18370511e-02,\n",
       "        3.47457714e-02,  6.51960224e-02, -6.69993237e-02,  1.73953583e-03,\n",
       "       -9.08840541e-03, -6.23871051e-02, -3.56336012e-02,  2.63697594e-01,\n",
       "        7.21128732e-02,  2.59042047e-02, -1.59833685e-01, -1.37777403e-01,\n",
       "        4.58269678e-02,  5.49202114e-02, -1.10380203e-01, -5.96862584e-02,\n",
       "        3.66179273e-02,  7.41725788e-03, -4.20096815e-02, -2.63331439e-02,\n",
       "       -3.11294291e-02, -2.55697931e-04, -5.82744479e-02,  1.48675323e-01,\n",
       "       -1.41971067e-01, -6.37287498e-02, -1.13550406e-02,  4.40462269e-02],\n",
       "      dtype=float32)"
      ]
     },
     "execution_count": 23,
     "metadata": {},
     "output_type": "execute_result"
    }
   ],
   "source": [
    "docVecModel['L3246']"
   ]
  },
  {
   "cell_type": "code",
   "execution_count": 24,
   "metadata": {},
   "outputs": [],
   "source": [
    "def to_vector(sentence):\n",
    "    cleaned = preprocess_string(sentence)\n",
    "    docVector = docVecModel.infer_vector(cleaned)\n",
    "    return docVector"
   ]
  },
  {
   "cell_type": "code",
   "execution_count": 25,
   "metadata": {},
   "outputs": [
    {
     "name": "stdout",
     "output_type": "stream",
     "text": [
      "Okay -- you're gonna need to learn how to lie.\n"
     ]
    },
    {
     "data": {
      "image/png": "[encoded data removed]",
      "text/plain": [
       "<Figure size 720x144 with 1 Axes>"
      ]
     },
     "metadata": {},
     "output_type": "display_data"
    }
   ],
   "source": [
    "show_movie_line('L872')"
   ]
  },
  {
   "cell_type": "code",
   "execution_count": 26,
   "metadata": {},
   "outputs": [
    {
     "name": "stdout",
     "output_type": "stream",
     "text": [
      "you're gonna need to learn not to tell lies\n"
     ]
    },
    {
     "data": {
      "image/png": "[encoded data removed]",
      "text/plain": [
       "<Figure size 720x144 with 1 Axes>"
      ]
     },
     "metadata": {},
     "output_type": "display_data"
    }
   ],
   "source": [
    "line = \"you're gonna need to learn not to tell lies\"\n",
    "show_image(to_vector(\"you're gonna need to learn how to lie\"), line)"
   ]
  },
  {
   "cell_type": "code",
   "execution_count": 27,
   "metadata": {},
   "outputs": [
    {
     "data": {
      "text/plain": [
       "['Yes, Wade, I mean Twombley. Put out that cigarette. Fuck. Fuck. Fuck.',\n",
       " \"Sure, that's easy.  You gotta insult somebody.\",\n",
       " \"No, I... I've been out on the grader all morning. Twombley's summer people. Massachusetts. Friend of Gordon's. It was his idea for Jack to take him hunting.  I gotta go.\",\n",
       " \"From Boston. Evan Twombley's son-in- law -- he was driving. I know where they're headed. Up the lake, Agaway. The old man's out deer hunting with Jack Hewitt, so they probably got some big weekend party planned.\",\n",
       " \"Look, I want to live, but I don't know where the fuck I'm gonna find two hundred bucks.\",\n",
       " \"That's no mystery. Julio and Paolo brought it in,  You don't want to hurt those boys, do you? I mean, they sure as Hell have got something coming, but it ain't what the Law wants to give them. You understand?  No. How could you understand.\",\n",
       " \"You?  Don't make me laugh.  You can't take care of shit.  You've been dicking me around since we started on this turd-hunt.  All you're good for is games... So far, what I got outta you is nothin'...\",\n",
       " \"Nah, he's nothin'. It's just sometimes... sometimes you just gotta punch somebody out, y'know?\",\n",
       " \"That must've been Twombley. Jesus. I bet that was Twombley.\",\n",
       " \"The loop!  The girl we did, what the fuck do you think I'm talking about?!  This guy calls and says he knows about the fucking loop...\"]"
      ]
     },
     "execution_count": 27,
     "metadata": {},
     "output_type": "execute_result"
    }
   ],
   "source": [
    "def similar_movie_lines(sentence):\n",
    "    vector = to_vector(sentence)\n",
    "    similar_vectors = docVecModel.docvecs.most_similar(positive=[vector])\n",
    "    similar_lines = [ lines_df.ix[line[0]].Line for line in similar_vectors]\n",
    "    return similar_lines\n",
    "\n",
    "similar_movie_lines(\"Sure, that's easy.  You gotta insult somebody.\")"
   ]
  },
  {
   "cell_type": "code",
   "execution_count": 28,
   "metadata": {},
   "outputs": [
    {
     "data": {
      "text/plain": [
       "'Okay, ten thousand plus a G.E. toaster oven, a Litton microwave, a Cuisinart...'"
      ]
     },
     "execution_count": 28,
     "metadata": {},
     "output_type": "execute_result"
    }
   ],
   "source": [
    "lines_df_small.ix['L59293'].Line"
   ]
  },
  {
   "cell_type": "code",
   "execution_count": null,
   "metadata": {},
   "outputs": [],
   "source": []
  }
 ],
 "metadata": {
  "kernelspec": {
   "display_name": "Python 3",
   "language": "python",
   "name": "python3"
  },
  "language_info": {
   "codemirror_mode": {
    "name": "ipython",
    "version": 3
   },
   "file_extension": ".py",
   "mimetype": "text/x-python",
   "name": "python",
   "nbconvert_exporter": "python",
   "pygments_lexer": "ipython3",
   "version": "3.7.3"
  }
 },
 "nbformat": 4,
 "nbformat_minor": 2
}
